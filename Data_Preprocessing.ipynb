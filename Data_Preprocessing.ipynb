{
  "nbformat": 4,
  "nbformat_minor": 0,
  "metadata": {
    "colab": {
      "provenance": []
    },
    "kernelspec": {
      "name": "python3",
      "display_name": "Python 3"
    },
    "language_info": {
      "name": "python"
    }
  },
  "cells": [
    {
      "cell_type": "code",
      "execution_count": null,
      "metadata": {
        "id": "FApI4ORNkMA5"
      },
      "outputs": [],
      "source": [
        "import os\n",
        "import pandas as pd\n",
        "base_folder=\"/content/drive/MyDrive/Dance_project_data\"\n",
        "dancers=[f\"D{i}\" for i in range(9,10)]\n",
        "patterns=[\"All_CSVs\", \"NewZigZag\", \"Circle\", \"train\"]\n",
        "cleaned_dataframes={}\n",
        "\n",
        "def clean_file(file_path):\n",
        "    try:\n",
        "        with open(file_path, 'r') as f:\n",
        "            lines=[next(f) for _ in range(7)]\n",
        "        marker_line=lines[2].strip().split(',')\n",
        "        marker_indices=[i for i, val in enumerate(marker_line) if val.strip()==\"Marker\"]\n",
        "        columns_to_keep=[0]+marker_indices\n",
        "        df=pd.read_csv(file_path,skiprows=2,usecols=columns_to_keep,engine=\"python\")\n",
        "        unlabeled_mask=df.iloc[0].astype(str).str.contains(\"Unlabeled\", na=False)\n",
        "        filtered_df=df.loc[:,~unlabeled_mask]\n",
        "        return filtered_df\n",
        "\n",
        "    except Exception as e:\n",
        "        print(f\"Error in file {file_path}: {e}\")\n",
        "        return None\n",
        "for dancer in dancers:\n",
        "    for pattern in patterns:\n",
        "        folder_path=os.path.join(base_folder,f\"{dancer}_{pattern}\")\n",
        "        if not os.path.exists(folder_path):\n",
        "            print(f\"Skipping {folder_path} (Folder not found)\")\n",
        "            continue\n",
        "        files=[f for f in os.listdir(folder_path) if f.endswith(\".csv\")]\n",
        "        for file in files:\n",
        "            file_path=os.path.join(folder_path, file)\n",
        "            df_cleaned=clean_file(file_path)\n",
        "            if df_cleaned is not None:\n",
        "                cleaned_dataframes[file] = df_cleaned\n",
        "                save_path=os.path.join(folder_path, f\"cleaned_{file}\")\n",
        "                df_cleaned.to_csv(save_path, index=False)\n",
        "                print(f\"Cleaned and saved: {file}: {save_path}\")\n",
        "print(\"\\n All dancer files cleaned!\")"
      ]
    },
    {
      "cell_type": "code",
      "source": [
        "import pathlib\n",
        "BASE_DIR=pathlib.Path(\"/content/drive/MyDrive/Dance_original_data\")\n",
        "csv_files=list(BASE_DIR.rglob(\"*.csv\"))+list(BASE_DIR.rglob(\"*.CSV\"))\n",
        "print(f\"\\nFound {len(csv_files)} CSV file(s):\")\n",
        "for f in csv_files:\n",
        "    print(\"  -\",f.relative_to(BASE_DIR))"
      ],
      "metadata": {
        "id": "HwNF52aKlHRJ"
      },
      "execution_count": null,
      "outputs": []
    },
    {
      "cell_type": "code",
      "source": [
        "import pandas as pd\n",
        "import numpy as np\n",
        "import os\n",
        "from pathlib import Path\n",
        "BASE_DIR=Path(\"/content/drive/MyDrive/Dance_original_data\")\n",
        "OUTPUT_DIR=Path(\"/content/drive/MyDrive/Dance_clean_data\")\n",
        "OUTPUT_DIR.mkdir(exist_ok=True)\n",
        "\n",
        "def clean_csv(input_path, output_folder):\n",
        "    try:\n",
        "        df=pd.read_csv(input_path, header=[0, 1, 2, 3, 4])\n",
        "        df=df.dropna()\n",
        "        cols_to_keep=[col for col in df.columns if \"Unlabeled\" not in col[1] and \"Frame\" not in col[1]]\n",
        "        df=df[cols_to_keep]\n",
        "        df=df.astype(float)\n",
        "        rel_path=input_path.relative_to(BASE_DIR)\n",
        "        cleaned_csv_path=output_folder/rel_path\n",
        "        cleaned_csv_path.parent.mkdir(parents=True, exist_ok=True)\n",
        "        df.to_csv(cleaned_csv_path, index=False)\n",
        "        npy_path=cleaned_csv_path.with_suffix(\".npy\")\n",
        "        np.save(npy_path, df.values)\n",
        "        print(f\"Cleaned: {rel_path}\")\n",
        "    except Exception as e:\n",
        "        print(f\"Failed: {input_path.name} — {e}\")\n",
        "\n",
        "csv_files=list(BASE_DIR.rglob(\"*.csv\"))\n",
        "print(f\"Found {len(csv_files)} CSVs\")\n",
        "\n",
        "for csv_file in csv_files:\n",
        "    clean_csv(csv_file,OUTPUT_DIR)"
      ],
      "metadata": {
        "id": "E2x4Bo-TlVvt"
      },
      "execution_count": null,
      "outputs": []
    }
  ]
}